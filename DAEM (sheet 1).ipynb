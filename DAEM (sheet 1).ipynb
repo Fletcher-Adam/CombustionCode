{
 "cells": [
  {
   "cell_type": "code",
   "execution_count": 8,
   "metadata": {},
   "outputs": [],
   "source": [
    "import numpy as np\n",
    "import os\n",
    "import csv\n",
    "import pandas as pd\n",
    "from scipy.optimize import minimize\n",
    "import matplotlib.pyplot as plt\n",
    "%matplotlib inline\n",
    "from scipy.special import erfinv"
   ]
  },
  {
   "cell_type": "markdown",
   "metadata": {},
   "source": [
    "# Test 1"
   ]
  },
  {
   "cell_type": "code",
   "execution_count": 9,
   "metadata": {},
   "outputs": [
    {
     "name": "stderr",
     "output_type": "stream",
     "text": [
      "C:\\Users\\Anaconda3\\lib\\site-packages\\ipykernel_launcher.py:51: RuntimeWarning: invalid value encountered in double_scalars\n"
     ]
    },
    {
     "name": "stdout",
     "output_type": "stream",
     "text": [
      "3000000000.0\n",
      "199999.99365234375\n",
      "204.9649609375\n",
      "12500.001403808594\n"
     ]
    },
    {
     "name": "stderr",
     "output_type": "stream",
     "text": [
      "C:\\Users\\Anaconda3\\lib\\site-packages\\ipykernel_launcher.py:51: RuntimeWarning: invalid value encountered in double_scalars\n",
      "C:\\Users\\Anaconda3\\lib\\site-packages\\ipykernel_launcher.py:51: RuntimeWarning: invalid value encountered in double_scalars\n",
      "C:\\Users\\Anaconda3\\lib\\site-packages\\numpy\\core\\fromnumeric.py:83: RuntimeWarning: invalid value encountered in reduce\n",
      "  return ufunc.reduce(obj, axis, dtype, out, **passkwargs)\n"
     ]
    }
   ],
   "source": [
    "from openpyxl import load_workbook\n",
    "def get_xcel_col(sheet, col, row_start, row_end):\n",
    "    vals = []\n",
    "    \n",
    "    for i in range(row_start, row_end):\n",
    "        vals.append(sheet[col+str(i)].value)\n",
    "    return vals\n",
    "R = 8.314\n",
    "wb = load_workbook(r'C:\\Users\\Data1.xlsx')\n",
    "s1 = wb['Sheet1']\n",
    "t = get_xcel_col(s1, 'A', 11, 57)\n",
    "T_c = get_xcel_col(s1, 'B', 11, 57)\n",
    "T = T_c + np.array(273.15)\n",
    "m_e = get_xcel_col(s1, 'D', 11, 57)\n",
    "m_n = m_e / np.array(s1['D11'].value)\n",
    "V_e = 1 - m_n\n",
    "def r_e(V_e, t):\n",
    "    dV_e = []\n",
    "    dt1 = []\n",
    "    for i in range(1, len(V_e)):\n",
    "        dV_e.append(V_e[i] - V_e[i-1])\n",
    "    for i in range(1, len(t)):\n",
    "        dt1.append(t[i] - t[i-1])\n",
    "    dV_e = np.array(dV_e)\n",
    "    dt1 = np.array(dt1)\n",
    "    r_e = dV_e / dt1\n",
    "    return(r_e)\n",
    "V_in = 0.63\n",
    "A = 3000000000\n",
    "E = 200000\n",
    "σ = 12500 \n",
    "def r_m(t,A,E,V_in,σ):\n",
    "    # initialize three arrays\n",
    "    dt2 = np.zeros(len(t)-1)\n",
    "    dV_o = np.zeros(len(t)-1)\n",
    "    r_m = np.zeros(len(t)-1)\n",
    "    Z = np.zeros(len(t)-1)\n",
    "    # fill in dt2 array \n",
    "    for i in range(1, len(t)-1):\n",
    "        dt2[i] = t[i] - t[i-1] \n",
    "        \n",
    "    # set up initial value of arrays\n",
    "    dV_o[0] = 0\n",
    "    Z[0] = erfinv(1-2*(V_in-dV_o[0]))\n",
    "    r_m[0] = A*np.exp((-E-σ*Z[0])/R/T[0])*(V_in-dV_o[0])\n",
    "\n",
    "    # fill in other two arrays\n",
    "    for i in range(1, len(t)-1):\n",
    "        dV_o[i] = dV_o[i-1]+r_m[i-1]*dt2[i]\n",
    "        Z[i] = erfinv(1-2*(V_in-dV_o[i]))\n",
    "        r_m[i] = A*np.exp((-E-σ*Z[i])/R/T[i])*(V_in-dV_o[i])\n",
    "    return(r_m, dV_o)\n",
    "def f(X):\n",
    "    A,E,V_in,σ = X\n",
    "    #z = r_e(V_e, t) - r_m(t,A,E,V_in)[0]\n",
    "    e1 = (V_e[0:-1] - r_m(t,A,E,V_in,σ)[1])**2\n",
    "    e2 = (r_e(V_e, t) - r_m(t,A,E,V_in,σ)[0])**2\n",
    "    return(sum(e1) + sum(e2))\n",
    "\n",
    "res = minimize(f,(A,E,V_in,σ))\n",
    "A,E,V_in,σ = res.x\n",
    "print(A)\n",
    "print(E)\n",
    "print(V_in)\n",
    "print(σ)\n",
    "\n",
    "\n",
    "e1 = (V_e[0:-1] - r_m(t,A,E,V_in,σ)[1])**2\n",
    "e2 = (r_e(V_e, t) - r_m(t,A,E,V_in,σ)[0])**2\n"
   ]
  },
  {
   "cell_type": "markdown",
   "metadata": {},
   "source": [
    "# Test 2"
   ]
  },
  {
   "cell_type": "code",
   "execution_count": 5,
   "metadata": {},
   "outputs": [
    {
     "name": "stdout",
     "output_type": "stream",
     "text": [
      "16726.566707815473\n",
      "76266.22867289517\n",
      "0.6623684137726262\n",
      "60.793127118729814\n",
      "60.79312929491771\n"
     ]
    }
   ],
   "source": [
    "t2 = get_xcel_col(s1, 'O', 11, 56)\n",
    "T_c2 = get_xcel_col(s1, 'P', 11, 56)\n",
    "T2 = T_c2 + np.array(273.15)\n",
    "m_e2 = get_xcel_col(s1, 'R', 11, 56)\n",
    "m_n2 = m_e2 / np.array(s1['R11'].value)\n",
    "V_e2 = 1 - m_n2\n",
    "def r_e2(V_e2, t2):\n",
    "    dV_e2 = []\n",
    "    dt1_2 = []\n",
    "    for i in range(1, len(V_e2)):\n",
    "        dV_e2.append(V_e2[i] - V_e2[i-1])\n",
    "    for i in range(1, len(t2)):\n",
    "        dt1_2.append(t2[i] - t2[i-1])\n",
    "    dV_e2 = np.array(dV_e2)\n",
    "    dt1_2 = np.array(dt1_2)\n",
    "    r_e2 = dV_e2 / dt1_2\n",
    "    return(r_e2)\n",
    "V_in2 = 0.645035021006702\n",
    "A2 = 16624.8724494439\n",
    "E2 = 76623.6728936998\n",
    "ν2 = 10\n",
    "σ2 = 10 \n",
    "def r_m2(t2,A2,E2,V_in2,ν2,σ2):\n",
    "    # initialize three arrays\n",
    "    dt2_2 = np.zeros(len(t2)-1)\n",
    "    dV_o2 = np.zeros(len(t2)-1)\n",
    "    r_m2 = np.zeros(len(t2)-1)\n",
    "    Z2 = np.zeros(len(t2)-1)\n",
    "    # fill in dt2 array \n",
    "    for i in range(1, len(t2)-1):\n",
    "        dt2_2[i] = t2[i] - t2[i-1] \n",
    "        \n",
    "    # set up initial value of arrays\n",
    "    dV_o2[0] = 0\n",
    "    Z2[0] = ν2*(1-2*(V_in2-dV_o2[0]))\n",
    "    r_m2[0] = A2*np.exp((-E2-σ2*Z2[0])/R/T2[0])*(V_in2-dV_o2[0])\n",
    "\n",
    "    # fill in other two arrays\n",
    "    for i in range(1, len(t2)-1):\n",
    "        dV_o2[i] = dV_o2[i-1]+r_m2[i-1]*dt2_2[i]\n",
    "        Z2[i] = ν2*(1-2*(V_in2-dV_o2[i]))\n",
    "        r_m2[i] = A2*np.exp((-E2-σ2*Z2[i])/R/T2[i])*(V_in2-dV_o2[i])\n",
    "    return(r_m2, dV_o2)\n",
    "def f2(X2):\n",
    "    A2,E2,V_in2,ν2,σ2 = X2\n",
    "    #z = r_e(V_e, t) - r_m(t,A,E,V_in)[0]\n",
    "    e1_2 = (V_e2[0:-1] - r_m2(t2,A2,E2,V_in2,ν2,σ2)[1])**2\n",
    "    e2_2 = (r_e2(V_e2, t2) - r_m2(t2,A2,E2,V_in2,ν2,σ2)[0])**2\n",
    "    return(sum(e1_2) + sum(e2_2))\n",
    "\n",
    "res = minimize(f2,(A2,E2,V_in2,ν2,σ2))\n",
    "A2,E2,V_in2,ν2,σ2 = res.x\n",
    "print(A2)\n",
    "print(E2)\n",
    "print(V_in2)\n",
    "print(ν2)\n",
    "print(σ2)\n",
    "\n",
    "\n",
    "e1_2 = (V_e2[0:-1] - r_m2(t2,A2,E2,V_in2,ν2,σ2)[1])**2\n",
    "e2_2 = (r_e2(V_e2, t2) - r_m2(t2,A2,E2,V_in2,ν2,σ2)[0])**2"
   ]
  },
  {
   "cell_type": "markdown",
   "metadata": {},
   "source": [
    "# Test 3"
   ]
  },
  {
   "cell_type": "code",
   "execution_count": 6,
   "metadata": {},
   "outputs": [
    {
     "name": "stdout",
     "output_type": "stream",
     "text": [
      "17020.505433975984\n",
      "75287.05186568506\n",
      "0.6613376548127303\n",
      "57.5205164477523\n",
      "57.52051319363791\n"
     ]
    }
   ],
   "source": [
    "t3 = get_xcel_col(s1, 'AD', 11, 55)\n",
    "T_c3 = get_xcel_col(s1, 'AE', 11, 55)\n",
    "T3 = T_c3 + np.array(273.15)\n",
    "m_e3 = get_xcel_col(s1, 'AG', 11, 55)\n",
    "m_n3 = m_e3 / np.array(s1['AG11'].value)\n",
    "V_e3 = 1 - m_n3\n",
    "def r_e3(V_e3, t3):\n",
    "    dV_e3 = []\n",
    "    dt1_3 = []\n",
    "    for i in range(1, len(V_e3)):\n",
    "        dV_e3.append(V_e3[i] - V_e3[i-1])\n",
    "    for i in range(1, len(t3)):\n",
    "        dt1_3.append(t3[i] - t3[i-1])\n",
    "    dV_e3 = np.array(dV_e3)\n",
    "    dt1_3 = np.array(dt1_3)\n",
    "    r_e3 = dV_e3 / dt1_3\n",
    "    return(r_e3)\n",
    "V_in3 = 0.645\n",
    "A3 = 16624.9\n",
    "E3 = 76623.7\n",
    "ν3 = 10\n",
    "σ3 = 10 \n",
    "def r_m3(t3,A3,E3,V_in3,ν3,σ3):\n",
    "    # initialize three arrays\n",
    "    dt2_3 = np.zeros(len(t3)-1)\n",
    "    dV_o3 = np.zeros(len(t3)-1)\n",
    "    r_m3 = np.zeros(len(t3)-1)\n",
    "    Z3 = np.zeros(len(t3)-1)\n",
    "    # fill in dt2 array \n",
    "    for i in range(1, len(t3)-1):\n",
    "        dt2_3[i] = t3[i] - t3[i-1] \n",
    "        \n",
    "    # set up initial value of arrays\n",
    "    dV_o3[0] = 0\n",
    "    Z3[0] = ν3*(1-2*(V_in3-dV_o3[0]))\n",
    "    r_m3[0] = A3*np.exp((-E3-σ3*Z3[0])/R/T3[0])*(V_in3-dV_o3[0])\n",
    "\n",
    "    # fill in other two arrays\n",
    "    for i in range(1, len(t3)-1):\n",
    "        dV_o3[i] = dV_o3[i-1]+r_m3[i-1]*dt2_3[i]\n",
    "        Z3[i] = ν3*(1-2*(V_in3-dV_o3[i]))\n",
    "        r_m3[i] = A3*np.exp((-E3-σ3*Z3[i])/R/T3[i])*(V_in3-dV_o3[i])\n",
    "    return(r_m3, dV_o3)\n",
    "def f3(X3):\n",
    "    A3,E3,V_in3,ν3,σ3 = X3\n",
    "    #z = r_e(V_e, t) - r_m(t,A,E,V_in)[0]\n",
    "    e1_3 = (V_e3[0:-1] - r_m3(t3,A3,E3,V_in3,ν3,σ3)[1])**2\n",
    "    e2_3 = (r_e3(V_e3, t3) - r_m3(t3,A3,E3,V_in3,ν3,σ3)[0])**2\n",
    "    return(sum(e1_3) + sum(e2_3))\n",
    "\n",
    "res = minimize(f3,(A3,E3,V_in3,ν3,σ3))\n",
    "A3,E3,V_in3,ν3,σ3 = res.x\n",
    "print(A3)\n",
    "print(E3)\n",
    "print(V_in3)\n",
    "print(ν3)\n",
    "print(σ3)\n",
    "\n",
    "\n",
    "e1_3 = (V_e3[0:-1] - r_m3(t3,A3,E3,V_in3,ν3,σ3)[1])**2\n",
    "e2_3 = (r_e3(V_e3, t3) - r_m3(t3,A3,E3,V_in3,ν3,σ3)[0])**2"
   ]
  },
  {
   "cell_type": "markdown",
   "metadata": {},
   "source": [
    "# Total Values"
   ]
  },
  {
   "cell_type": "code",
   "execution_count": 45,
   "metadata": {},
   "outputs": [
    {
     "name": "stdout",
     "output_type": "stream",
     "text": [
      "16624.9\n",
      "76623.7\n",
      "0.645\n",
      "10.0\n",
      "10.0\n",
      "0.01848875235229377\n"
     ]
    }
   ],
   "source": [
    "V_inT = 0.645\n",
    "AT = 16624.9\n",
    "ET = 76623.7\n",
    "νT = 10\n",
    "σT = 10 \n",
    "\n",
    "def totf(XT):\n",
    "    AT,ET,V_inT,νT,σT = XT\n",
    "    e1 = (V_e[0:-1] - r_m(t,A,E,V_in,ν,σ)[1])**2\n",
    "    e2 = (r_e(V_e, t) - r_m(t,A,E,V_in,ν,σ)[0])**2\n",
    "    e1_2 = (V_e2[0:-1] - r_m2(t2,A2,E2,V_in2,ν2,σ2)[1])**2\n",
    "    e2_2 = (r_e2(V_e2, t2) - r_m2(t2,A2,E2,V_in2,ν2,σ2)[0])**2\n",
    "    e1_3 = (V_e3[0:-1] - r_m3(t3,A3,E3,V_in3,ν3,σ3)[1])**2\n",
    "    e2_3 = (r_e3(V_e3, t3) - r_m3(t3,A3,E3,V_in3,ν3,σ3)[0])**2\n",
    "    return(sum(e1) + sum(e2) + sum(e1_2) + sum(e2_2) + sum(e1_3) + sum(e2_3))\n",
    "res = minimize(totf,(AT,ET,V_inT,νT,σT))\n",
    "AT,ET,V_inT,νT,σT = res.x\n",
    "print(AT)\n",
    "print(ET)\n",
    "print(V_inT)\n",
    "print(νT)\n",
    "print(σT)\n",
    "print(sum(e1) + sum(e2) + sum(e1_2) + sum(e2_2) + sum(e1_3) + sum(e2_3))"
   ]
  },
  {
   "cell_type": "code",
   "execution_count": 10,
   "metadata": {},
   "outputs": [
    {
     "name": "stderr",
     "output_type": "stream",
     "text": [
      "C:\\Users\\Anaconda3\\lib\\site-packages\\ipykernel_launcher.py:51: RuntimeWarning: invalid value encountered in double_scalars\n"
     ]
    },
    {
     "data": {
      "image/png": "[encoded data removed]",
      "text/plain": [
       "<Figure size 432x288 with 1 Axes>"
      ]
     },
     "metadata": {
      "needs_background": "light"
     },
     "output_type": "display_data"
    }
   ],
   "source": [
    "plt.plot(T_c[0:45],r_e(V_e,t),linestyle = ':',color = 'Green',label='exp1')\n",
    "plt.plot(T_c2[0:44],r_e2(V_e2,t2),linestyle = ':',color = 'Blue',label='exp2')\n",
    "plt.plot(T_c3[0:43],r_e3(V_e3,t3),linestyle = ':',color = 'M',label='exp3')\n",
    "plt.xlabel('Temperature (C)')\n",
    "plt.ylabel('DIG (DV/Dt)')\n",
    "plt.plot(T_c[0:45],r_m(t,A,E,V_in,σ)[0],color = 'Green',label='mod1')\n",
    "plt.plot(T_c2[0:44],r_m2(t2,A2,E2,V_in2,ν2,σ2)[0],color = 'Blue',label='mod2')\n",
    "plt.plot(T_c3[0:43],r_m3(t3,A3,E3,V_in3,ν3,σ3)[0],color = 'M',label='mod3')\n",
    "plt.xlabel('Temperature (C)')\n",
    "plt.ylabel('DIG (DV/Dt)')\n",
    "plt.legend()\n",
    "plt.grid()"
   ]
  },
  {
   "cell_type": "code",
   "execution_count": 44,
   "metadata": {},
   "outputs": [
    {
     "data": {
      "image/png": "[encoded data removed]",
      "text/plain": [
       "<Figure size 432x288 with 1 Axes>"
      ]
     },
     "metadata": {
      "needs_background": "light"
     },
     "output_type": "display_data"
    }
   ],
   "source": [
    "plt.plot(T_c,V_e,linestyle = ':',color = 'Green',label='exp1')\n",
    "plt.plot(T_c2,V_e2,linestyle = ':',color = 'Blue',label='exp2')\n",
    "plt.plot(T_c3,V_e3,linestyle = ':',color = 'M',label='exp3')\n",
    "plt.xlabel('Temperature (C)')\n",
    "plt.ylabel('TG (V)')\n",
    "plt.plot(T_c[0:45],r_m(t,A,E,V_in,ν,σ)[1],'g-',label='mod1')\n",
    "plt.plot(T_c2[0:44],r_m2(t2,A2,E2,V_in2,ν2,σ2)[1],'b-',label='mod2')\n",
    "plt.plot(T_c3[0:43],r_m3(t3,A3,E3,V_in3,ν3,σ3)[1],'m-',label='mod3')\n",
    "plt.xlabel('Temperature (C)')\n",
    "plt.ylabel('TG (V)')\n",
    "plt.legend()\n",
    "plt.grid()"
   ]
  },
  {
   "cell_type": "code",
   "execution_count": null,
   "metadata": {},
   "outputs": [],
   "source": []
  }
 ],
 "metadata": {
  "kernelspec": {
   "display_name": "Python 3",
   "language": "python",
   "name": "python3"
  },
  "language_info": {
   "codemirror_mode": {
    "name": "ipython",
    "version": 3
   },
   "file_extension": ".py",
   "mimetype": "text/x-python",
   "name": "python",
   "nbconvert_exporter": "python",
   "pygments_lexer": "ipython3",
   "version": "3.7.1"
  }
 },
 "nbformat": 4,
 "nbformat_minor": 2
}
