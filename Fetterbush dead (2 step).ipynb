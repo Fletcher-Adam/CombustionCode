{
 "cells": [
  {
   "cell_type": "code",
   "execution_count": 12,
   "metadata": {},
   "outputs": [],
   "source": [
    "import numpy as np\n",
    "import os\n",
    "import csv\n",
    "import pandas as pd\n",
    "from scipy.optimize import minimize\n",
    "import matplotlib.pyplot as plt\n",
    "%matplotlib inline"
   ]
  },
  {
   "cell_type": "code",
   "execution_count": 13,
   "metadata": {},
   "outputs": [],
   "source": [
    "from openpyxl import load_workbook\n",
    "def get_xcel_col(sheet, col, row_start, row_end):\n",
    "    vals = []\n",
    "    \n",
    "    for i in range(row_start, row_end):\n",
    "        vals.append(sheet[col+str(i)].value)\n",
    "    return vals\n",
    "R = 8.314\n",
    "wb = load_workbook(r'C:\\Users\\adam\\Desktop\\Combustioncode-master\\DAEM-Modified.xlsx')\n",
    "s1 = wb['Fetterbush_dead']\n",
    "t = get_xcel_col(s1, 'A', 11, 57) #57\n",
    "T_c = get_xcel_col(s1, 'B', 11, 57)\n",
    "T = T_c + np.array(273.15)\n",
    "m_e = get_xcel_col(s1, 'D', 11, 57)\n",
    "c = m_e / np.array(s1['D11'].value)\n",
    "V_e = 1 - c\n",
    "def r_e(V_e, t):\n",
    "    dV_e = []\n",
    "    dt1 = []\n",
    "    dm_e = []\n",
    "    for i in range(1, len(V_e)):\n",
    "        dV_e.append(V_e[i] - V_e[i-1])\n",
    "        dm_e.append(m_e[i]-m_e[i-1])\n",
    "    for i in range(1, len(t)):\n",
    "        dt1.append(t[i] - t[i-1])\n",
    "    dV_e = np.array(dV_e)\n",
    "    dm_e = np.array(dm_e)\n",
    "    dt1 = np.array(dt1)\n",
    "    r_e = dV_e / dt1\n",
    "    r_em = dm_e / dt1\n",
    "    return(r_e, r_em)"
   ]
  },
  {
   "cell_type": "code",
   "execution_count": 24,
   "metadata": {},
   "outputs": [
    {
     "name": "stdout",
     "output_type": "stream",
     "text": [
      "6.413340944329265\n",
      "61122.368621301626\n",
      "163.06755761702237\n",
      "12472.65371417438\n",
      "76373.23145982708\n",
      "-1.234039439625231\n"
     ]
    }
   ],
   "source": [
    "A1 = 2000\n",
    "E1 = 60200\n",
    "Y1 = .33\n",
    "A2 = 12839\n",
    "E2 = 75350\n",
    "Y2 = 0.31\n",
    "\n",
    "def r_m(A1,E1,Y1,A2,E2,Y2):\n",
    "    V = np.zeros(len(t)-1)\n",
    "    m = np.zeros(len(t)-1)\n",
    "    dt2 = np.zeros(len(t)-1)\n",
    "    dV = np.zeros(len(t)-1)\n",
    "    dm = np.zeros(len(t)-1)\n",
    "    for i in range(1, len(t)-1):\n",
    "        dt2[i] = t[i] - t[i-1] \n",
    "        \n",
    "    m[0] = 1\n",
    "    V[0] = 0\n",
    "    dm[0] = -((A1*np.exp(-E1/R/T[0]))+(A2*np.exp(-E2/R/T[0])))*m[0]\n",
    "    dV[0] = ((Y1*A1*np.exp(-E1/R/T[0]))+(Y2*A2*np.exp(-E2/R/T[0])))*m[0]\n",
    "    for i in range(1, len(t)-1):\n",
    "        m[i] = m[i-1]+dm[i-1]*dt2[i]\n",
    "        dm[i] = -((A1*np.exp(-E1/R/T[i]))+(A2*np.exp(-E2/R/T[i])))*m[i]\n",
    "        dV[i] = ((Y1*A1*np.exp(-E1/R/T[i]))+(Y2*A2*np.exp(-E2/R/T[i])))*m[i]\n",
    "        V[i] = V[i-1]+dV[i-1]*dt2[i]\n",
    "    return(m, V, dV, dm)\n",
    "def f(X):\n",
    "    A1,E1,Y1,A2,E2,Y2 = X\n",
    "    e1 = (r_e(V_e, t)[0]*0.10 - r_m(A1,E1,Y1,A2,E2,Y2)[2]*0.10)**2\n",
    "    e2 = (V_e[1:57] - r_m(A1,E1,Y1,A2,E2,Y2)[1])**2\n",
    "    return(sum(e1) + sum(e2))\n",
    "\n",
    "res = minimize(f,(A1,E1,Y1,A2,E2,Y2))\n",
    "A1,E1,Y1,A2,E2,Y2 = res.x\n",
    "print(A1)\n",
    "print(E1)\n",
    "print(Y1)\n",
    "print(A2)\n",
    "print(E2)\n",
    "print(Y2)"
   ]
  },
  {
   "cell_type": "code",
   "execution_count": 25,
   "metadata": {},
   "outputs": [
    {
     "data": {
      "image/png": "[encoded data removed]",
      "text/plain": [
       "<Figure size 432x288 with 1 Axes>"
      ]
     },
     "metadata": {
      "needs_background": "light"
     },
     "output_type": "display_data"
    }
   ],
   "source": [
    "plt.plot(T_c[1:46],r_e(V_e,t)[0],linestyle = ':',color = 'Green',label='exp1')\n",
    "plt.plot(T_c[1:40],r_m(A1,E1,Y1,A2,E2,Y2)[2][0:39],color = 'blue',label='mod1')\n",
    "plt.xlabel('Temperature (C)')\n",
    "plt.ylabel('DIG (DV/Dt)')\n",
    "plt.legend()\n",
    "plt.grid()"
   ]
  },
  {
   "cell_type": "code",
   "execution_count": null,
   "metadata": {},
   "outputs": [],
   "source": []
  }
 ],
 "metadata": {
  "kernelspec": {
   "display_name": "Python 3",
   "language": "python",
   "name": "python3"
  },
  "language_info": {
   "codemirror_mode": {
    "name": "ipython",
    "version": 3
   },
   "file_extension": ".py",
   "mimetype": "text/x-python",
   "name": "python",
   "nbconvert_exporter": "python",
   "pygments_lexer": "ipython3",
   "version": "3.7.3"
  }
 },
 "nbformat": 4,
 "nbformat_minor": 2
}
