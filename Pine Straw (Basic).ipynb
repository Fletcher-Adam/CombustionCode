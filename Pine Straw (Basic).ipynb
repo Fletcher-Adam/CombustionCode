{
 "cells": [
  {
   "cell_type": "code",
   "execution_count": 2,
   "metadata": {},
   "outputs": [],
   "source": [
    "import numpy as np\n",
    "import os\n",
    "import csv\n",
    "import pandas as pd\n",
    "from scipy.optimize import minimize\n",
    "import matplotlib.pyplot as plt\n",
    "%matplotlib inline"
   ]
  },
  {
   "cell_type": "markdown",
   "metadata": {},
   "source": [
    "# Test 1"
   ]
  },
  {
   "cell_type": "code",
   "execution_count": 3,
   "metadata": {},
   "outputs": [
    {
     "name": "stdout",
     "output_type": "stream",
     "text": [
      "3537.0321999283674\n",
      "70948.66608335817\n",
      "0.6469721330238364\n"
     ]
    }
   ],
   "source": [
    "from openpyxl import load_workbook\n",
    "def get_xcel_col(sheet, col, row_start, row_end):\n",
    "    vals = []\n",
    "    \n",
    "    for i in range(row_start, row_end):\n",
    "        vals.append(sheet[col+str(i)].value)\n",
    "    return vals\n",
    "R = 8.314\n",
    "wb = load_workbook(r'C:\\Users\\Data1.xlsx')\n",
    "s1 = wb['Pine straw']\n",
    "t = get_xcel_col(s1, 'A', 11, 57)\n",
    "T_c = get_xcel_col(s1, 'B', 11, 57)\n",
    "T = T_c + np.array(273.15)\n",
    "m_e = get_xcel_col(s1, 'D', 11, 57)\n",
    "m_n = m_e / np.array(s1['D11'].value)\n",
    "V_e = 1 - m_n\n",
    "def r_e(V_e, t):\n",
    "    dV_e = []\n",
    "    dt1 = []\n",
    "    for i in range(1, len(V_e)):\n",
    "        dV_e.append(V_e[i] - V_e[i-1])\n",
    "    for i in range(1, len(t)):\n",
    "        dt1.append(t[i] - t[i-1])\n",
    "    dV_e = np.array(dV_e)\n",
    "    dt1 = np.array(dt1)\n",
    "    r_e = dV_e / dt1\n",
    "    return(r_e)\n",
    "V_in = 0.632\n",
    "A = 4170\n",
    "E = 70400\n",
    "\n",
    "def r_m(t,A,E,V_in):\n",
    "    dt2 = np.zeros(len(t)-1)\n",
    "    dV_o = np.zeros(len(t)-1)\n",
    "    r_m = np.zeros(len(t)-1)\n",
    "    \n",
    "    for i in range(1, len(t)-1):\n",
    "        dt2[i] = t[i] - t[i-1] \n",
    "        \n",
    "    dV_o[0] = 0\n",
    "    r_m[0] = A*np.exp(-E/R/T[0])*(V_in-dV_o[0])\n",
    "\n",
    "    for i in range(1, len(t)-1):\n",
    "        dV_o[i] = dV_o[i-1]+r_m[i-1]*dt2[i]\n",
    "        r_m[i] = A*np.exp(-E/R/T[i])*(V_in-dV_o[i])\n",
    "    return(r_m, dV_o)\n",
    "def f(X):\n",
    "    A,E,V_in = X\n",
    "    e1 = (V_e[0:-1] - r_m(t,A,E,V_in)[1])**2\n",
    "    e2 = (r_e(V_e, t) - r_m(t,A,E,V_in)[0])**2\n",
    "    return(sum(e1) + sum(e2))\n",
    "\n",
    "res = minimize(f,(A,E,V_in))\n",
    "A,E,V_in = res.x\n",
    "print(A)\n",
    "print(E)\n",
    "print(V_in)\n",
    "\n",
    "\n",
    "e1 = (V_e[0:-1] - r_m(t,A,E,V_in)[1])**2\n",
    "e2 = (r_e(V_e, t) - r_m(t,A,E,V_in)[0])**2\n"
   ]
  },
  {
   "cell_type": "markdown",
   "metadata": {},
   "source": [
    "# Test 2"
   ]
  },
  {
   "cell_type": "code",
   "execution_count": 4,
   "metadata": {},
   "outputs": [
    {
     "name": "stdout",
     "output_type": "stream",
     "text": [
      "4535.14158140915\n",
      "70075.73764548618\n",
      "0.6520752155444085\n"
     ]
    }
   ],
   "source": [
    "t2 = get_xcel_col(s1, 'P', 11, 56)\n",
    "T_c2 = get_xcel_col(s1, 'Q', 11, 56)\n",
    "T2 = T_c2 + np.array(273.15)\n",
    "m_e2 = get_xcel_col(s1, 'S', 11, 56)\n",
    "m_n2 = m_e2 / np.array(s1['S11'].value)\n",
    "V_e2 = 1 - m_n2\n",
    "def r_e2(V_e2, t2):\n",
    "    dV_e2 = []\n",
    "    dt1_2 = []\n",
    "    for i in range(1, len(V_e2)):\n",
    "        dV_e2.append(V_e2[i] - V_e2[i-1])\n",
    "    for i in range(1, len(t2)):\n",
    "        dt1_2.append(t2[i] - t2[i-1])\n",
    "    dV_e2 = np.array(dV_e2)\n",
    "    dt1_2 = np.array(dt1_2)\n",
    "    r_e2 = dV_e2 / dt1_2\n",
    "    return(r_e2)\n",
    "V_in2 = 0.632\n",
    "A2 = 4170\n",
    "E2 = 70400\n",
    "\n",
    "def r_m2(t2,A2,E2,V_in2):\n",
    "    dt2_2 = np.zeros(len(t2)-1)\n",
    "    dV_o2 = np.zeros(len(t2)-1)\n",
    "    r_m2 = np.zeros(len(t2)-1)\n",
    "     \n",
    "    for i in range(1, len(t2)-1):\n",
    "        dt2_2[i] = t2[i] - t2[i-1] \n",
    "        \n",
    "    dV_o2[0] = 0\n",
    "    r_m2[0] = A2*np.exp(-E2/R/T2[0])*(V_in2-dV_o2[0])\n",
    "\n",
    "    for i in range(1, len(t2)-1):\n",
    "        dV_o2[i] = dV_o2[i-1]+r_m2[i-1]*dt2_2[i]\n",
    "        r_m2[i] = A2*np.exp(-E2/R/T2[i])*(V_in2-dV_o2[i])\n",
    "    return(r_m2, dV_o2)\n",
    "def f2(X2):\n",
    "    A2,E2,V_in2 = X2\n",
    "    e1_2 = (V_e2[0:-1] - r_m2(t2,A2,E2,V_in2)[1])**2\n",
    "    e2_2 = (r_e2(V_e2, t2) - r_m2(t2,A2,E2,V_in2)[0])**2\n",
    "    return(sum(e1_2) + sum(e2_2))\n",
    "\n",
    "res = minimize(f2,(A2,E2,V_in2))\n",
    "A2,E2,V_in2 = res.x\n",
    "print(A2)\n",
    "print(E2)\n",
    "print(V_in2)\n",
    "\n",
    "\n",
    "e1_2 = (V_e2[0:-1] - r_m2(t2,A2,E2,V_in2)[1])**2\n",
    "e2_2 = (r_e2(V_e2, t2) - r_m2(t2,A2,E2,V_in2)[0])**2"
   ]
  },
  {
   "cell_type": "markdown",
   "metadata": {},
   "source": [
    "# Test 3"
   ]
  },
  {
   "cell_type": "code",
   "execution_count": 5,
   "metadata": {},
   "outputs": [
    {
     "name": "stdout",
     "output_type": "stream",
     "text": [
      "5158.223914106741\n",
      "69553.49071710871\n",
      "0.6511632755564228\n"
     ]
    }
   ],
   "source": [
    "t3 = get_xcel_col(s1, 'AE', 11, 55)\n",
    "T_c3 = get_xcel_col(s1, 'AF', 11, 55)\n",
    "T3 = T_c3 + np.array(273.15)\n",
    "m_e3 = get_xcel_col(s1, 'AH', 11, 55)\n",
    "m_n3 = m_e3 / np.array(s1['AH11'].value)\n",
    "V_e3 = 1 - m_n3\n",
    "def r_e3(V_e3, t3):\n",
    "    dV_e3 = []\n",
    "    dt1_3 = []\n",
    "    for i in range(1, len(V_e3)):\n",
    "        dV_e3.append(V_e3[i] - V_e3[i-1])\n",
    "    for i in range(1, len(t3)):\n",
    "        dt1_3.append(t3[i] - t3[i-1])\n",
    "    dV_e3 = np.array(dV_e3)\n",
    "    dt1_3 = np.array(dt1_3)\n",
    "    r_e3 = dV_e3 / dt1_3\n",
    "    return(r_e3)\n",
    "V_in3 = 0.632\n",
    "A3 = 4170\n",
    "E3 = 70400\n",
    "\n",
    "def r_m3(t3,A3,E3,V_in3):\n",
    "    dt2_3 = np.zeros(len(t3)-1)\n",
    "    dV_o3 = np.zeros(len(t3)-1)\n",
    "    r_m3 = np.zeros(len(t3)-1)\n",
    "    \n",
    "    for i in range(1, len(t3)-1):\n",
    "        dt2_3[i] = t3[i] - t3[i-1] \n",
    "        \n",
    "    dV_o3[0] = 0\n",
    "    r_m3[0] = A3*np.exp(-E3/R/T3[0])*(V_in3-dV_o3[0])\n",
    "\n",
    "    for i in range(1, len(t3)-1):\n",
    "        dV_o3[i] = dV_o3[i-1]+r_m3[i-1]*dt2_3[i]\n",
    "        r_m3[i] = A3*np.exp(-E3/R/T3[i])*(V_in3-dV_o3[i])\n",
    "    return(r_m3, dV_o3)\n",
    "def f3(X3):\n",
    "    A3,E3,V_in3 = X3\n",
    "    e1_3 = (V_e3[0:-1] - r_m3(t3,A3,E3,V_in3)[1])**2\n",
    "    e2_3 = (r_e3(V_e3, t3) - r_m3(t3,A3,E3,V_in3)[0])**2\n",
    "    return(sum(e1_3) + sum(e2_3))\n",
    "\n",
    "res = minimize(f3,(A3,E3,V_in3))\n",
    "A3,E3,V_in3 = res.x\n",
    "print(A3)\n",
    "print(E3)\n",
    "print(V_in3)\n",
    "\n",
    "e1_3 = (V_e3[0:-1] - r_m3(t3,A3,E3,V_in3)[1])**2\n",
    "e2_3 = (r_e3(V_e3, t3) - r_m3(t3,A3,E3,V_in3)[0])**2"
   ]
  },
  {
   "cell_type": "markdown",
   "metadata": {},
   "source": [
    "# Total Values"
   ]
  },
  {
   "cell_type": "code",
   "execution_count": 11,
   "metadata": {},
   "outputs": [
    {
     "name": "stdout",
     "output_type": "stream",
     "text": [
      "4413.13005682243\n",
      "70158.82383809278\n",
      "0.6469600476921187\n"
     ]
    }
   ],
   "source": [
    "V_inT = 0.6329\n",
    "AT = 4000\n",
    "ET = 70489\n",
    "\n",
    "def totf(XT):\n",
    "    AT,ET,V_inT = XT\n",
    "    e1T = (V_e[0:-1] - r_m(t,AT,ET,V_inT)[1])**2\n",
    "    e2T = (r_e(V_e, t) - r_m(t,AT,ET,V_inT)[0])**2\n",
    "    e1_2T = (V_e2[0:-1] - r_m2(t2,AT,ET,V_inT)[1])**2\n",
    "    e2_2T = (r_e2(V_e2, t2) - r_m2(t2,AT,ET,V_inT)[0])**2\n",
    "    e1_3T = (V_e3[0:-1] - r_m3(t3,AT,ET,V_inT)[1])**2\n",
    "    e2_3T = (r_e3(V_e3, t3) - r_m3(t3,AT,ET,V_inT)[0])**2\n",
    "    return(sum(e1T) + sum(e2T) + sum(e1_2T) + sum(e2_2T) + sum(e1_3T) + sum(e2_3T))\n",
    "res = minimize(totf,(AT,ET,V_inT))\n",
    "AT,ET,V_inT = res.x\n",
    "print(AT)\n",
    "print(ET)\n",
    "print(V_inT)"
   ]
  },
  {
   "cell_type": "code",
   "execution_count": 15,
   "metadata": {},
   "outputs": [
    {
     "data": {
      "image/png": "[encoded data removed]",
      "text/plain": [
       "<Figure size 432x288 with 1 Axes>"
      ]
     },
     "metadata": {
      "needs_background": "light"
     },
     "output_type": "display_data"
    }
   ],
   "source": [
    "plt.plot(T_c[0:45],r_e(V_e,t),'o',ms=5,color = 'green',label='exp_10 $^\\circ$C/min')\n",
    "plt.plot(T_c2[0:44],r_e2(V_e2,t2),'s',ms=5,color = 'Blue',label='exp_20 $^\\circ$C/min')\n",
    "plt.plot(T_c3[0:43],r_e3(V_e3,t3),'^',ms=5,color = 'M',label='exp_30 $^\\circ$C/min')\n",
    "plt.plot(T_c[0:45],r_m(t,AT,ET,V_inT)[0],color = 'k',label='model')\n",
    "plt.plot(T_c2[0:44],r_m2(t2,AT,ET,V_inT)[0],color = 'k')\n",
    "plt.plot(T_c3[0:43],r_m3(t3,AT,ET,V_inT)[0],color = 'k')\n",
    "plt.xlabel('Temperature ($^\\circ$C)')\n",
    "plt.ylabel('DTG (DV/Dt)')\n",
    "plt.legend()\n",
    "plt.show()"
   ]
  },
  {
   "cell_type": "code",
   "execution_count": 16,
   "metadata": {},
   "outputs": [
    {
     "data": {
      "image/png": "[encoded data removed]",
      "text/plain": [
       "<Figure size 432x288 with 1 Axes>"
      ]
     },
     "metadata": {
      "needs_background": "light"
     },
     "output_type": "display_data"
    }
   ],
   "source": [
    "plt.plot(T_c,V_e,'o',ms=5,color = 'Green',label='exp_10 $^\\circ$C/min')\n",
    "plt.plot(T_c2,V_e2,'s',ms=5,color = 'Blue',label='exp_20 $^\\circ$C/min')\n",
    "plt.plot(T_c3,V_e3,'^',ms=5,color = 'M',label='exp_30 $^\\circ$C/min')\n",
    "plt.plot(T_c[0:45],r_m(t,AT,ET,V_inT)[1],'k',label='model')\n",
    "plt.plot(T_c2[0:44],r_m2(t2,AT,ET,V_inT)[1],'k')\n",
    "plt.plot(T_c3[0:43],r_m3(t3,AT,ET,V_inT)[1],'k')\n",
    "plt.xlabel('Temperature ($^\\circ$C)')\n",
    "plt.ylabel('TG (V)')\n",
    "plt.legend()\n",
    "plt.show()"
   ]
  },
  {
   "cell_type": "code",
   "execution_count": null,
   "metadata": {},
   "outputs": [],
   "source": []
  }
 ],
 "metadata": {
  "kernelspec": {
   "display_name": "Python 3",
   "language": "python",
   "name": "python3"
  },
  "language_info": {
   "codemirror_mode": {
    "name": "ipython",
    "version": 3
   },
   "file_extension": ".py",
   "mimetype": "text/x-python",
   "name": "python",
   "nbconvert_exporter": "python",
   "pygments_lexer": "ipython3",
   "version": "3.7.1"
  }
 },
 "nbformat": 4,
 "nbformat_minor": 2
}
