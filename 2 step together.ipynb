{
 "cells": [
  {
   "cell_type": "code",
   "execution_count": 2,
   "metadata": {},
   "outputs": [],
   "source": [
    "import numpy as np\n",
    "import os\n",
    "import csv\n",
    "import pandas as pd\n",
    "from scipy.optimize import minimize\n",
    "import matplotlib.pyplot as plt\n",
    "%matplotlib inline"
   ]
  },
  {
   "cell_type": "code",
   "execution_count": 3,
   "metadata": {},
   "outputs": [],
   "source": [
    "from openpyxl import load_workbook\n",
    "def get_xcel_col(sheet, col, row_start, row_end):\n",
    "    vals = []\n",
    "    \n",
    "    for i in range(row_start, row_end):\n",
    "        vals.append(sheet[col+str(i)].value)\n",
    "    return vals\n",
    "R = 8.314\n",
    "wb = load_workbook(r'C:\\Users\\adam\\Desktop\\Combustioncode-master\\DAEM-Modified.xlsx')\n",
    "s1 = wb['Darrow\\'s blueberry_dead']\n",
    "t = get_xcel_col(s1, 'A', 11, 57) #57\n",
    "T_c = get_xcel_col(s1, 'B', 11, 57)\n",
    "T = T_c + np.array(273.15)\n",
    "m_e = get_xcel_col(s1, 'D', 11, 57)\n",
    "c = m_e / np.array(s1['D11'].value)\n",
    "V_e = 1 - c\n",
    "def r_e(V_e, t):\n",
    "    dV_e = []\n",
    "    dt1 = []\n",
    "    dm_e = []\n",
    "    for i in range(1, len(V_e)):\n",
    "        dV_e.append(V_e[i] - V_e[i-1])\n",
    "        dm_e.append(m_e[i]-m_e[i-1])\n",
    "    for i in range(1, len(t)):\n",
    "        dt1.append(t[i] - t[i-1])\n",
    "    dV_e = np.array(dV_e)\n",
    "    dm_e = np.array(dm_e)\n",
    "    dt1 = np.array(dt1)\n",
    "    r_e = dV_e / dt1\n",
    "    r_em = dm_e / dt1\n",
    "    return(r_e, r_em)"
   ]
  },
  {
   "cell_type": "code",
   "execution_count": 4,
   "metadata": {},
   "outputs": [
    {
     "name": "stdout",
     "output_type": "stream",
     "text": [
      "3999.9983926797977\n",
      "60199.634936628856\n",
      "8.153365790355028e-05\n",
      "11838.7251538109\n",
      "75350.05929958228\n",
      "-0.00030540181530522813\n"
     ]
    }
   ],
   "source": [
    "A1 = 4000\n",
    "E1 = 60200\n",
    "Y1 = .33\n",
    "A2 = 11839\n",
    "E2 = 75350\n",
    "Y2 = 0.31\n",
    "\n",
    "def r_m(A1,E1,Y1,A2,E2,Y2):\n",
    "    V = np.zeros(len(t)-1)\n",
    "    m = np.zeros(len(t)-1)\n",
    "    dt2 = np.zeros(len(t)-1)\n",
    "    dV = np.zeros(len(t)-1)\n",
    "    dm = np.zeros(len(t)-1)\n",
    "    for i in range(1, len(t)-1):\n",
    "        dt2[i] = t[i] - t[i-1] \n",
    "        \n",
    "    m[0] = 1\n",
    "    V[0] = 0\n",
    "    dm[0] = -((A1*np.exp(-E1/R/T[0]))+(A2*np.exp(-E2/R/T[0])))*m[0]\n",
    "    dV[0] = ((Y1*A1*np.exp(-E1/R/T[0]))+(Y2*A2*np.exp(-E2/R/T[0])))*m[0]\n",
    "    for i in range(1, len(t)-1):\n",
    "        m[i] = m[i-1]+dm[i-1]*dt2[i]\n",
    "        dm[i] = -((A1*np.exp(-E1/R/T[i]))+(A2*np.exp(-E2/R/T[i])))*m[i]\n",
    "        dV[i] = ((Y1*A1*np.exp(-E1/R/T[i]))+(Y2*A2*np.exp(-E2/R/T[i])))*m[i]\n",
    "        V[i] = V[i-1]+dV[i-1]*dt2[i]\n",
    "    return(m, V, dV, dm)\n",
    "def f(X):\n",
    "    A1,E1,Y1,A2,E2,Y2 = X\n",
    "    e1 = (r_e(V_e, t)[0]*.01 - r_m(A1,E1,Y1,A2,E2,Y2)[2]*.01)**2\n",
    "    e2 = (V_e[1:57] - r_m(A1,E1,Y1,A2,E2,Y2)[1])**2\n",
    "    return(sum(e1) + sum(e2))\n",
    "\n",
    "res = minimize(f,(A1,E1,Y1,A2,E2,Y2))\n",
    "A1,E1,Y1,A2,E2,Y2 = res.x\n",
    "print(A1)\n",
    "print(E1)\n",
    "print(Y1)\n",
    "print(A2)\n",
    "print(E2)\n",
    "print(Y2)"
   ]
  },
  {
   "cell_type": "code",
   "execution_count": 5,
   "metadata": {},
   "outputs": [
    {
     "data": {
      "text/plain": [
       "      fun: 8.572394575221907\n",
       " hess_inv: array([[ 1.32371274e-01,  1.62641633e-01, -2.59369890e-06,\n",
       "        -1.48637525e-01,  2.54089162e-01,  9.33714212e-06],\n",
       "       [ 1.62641633e-01,  9.64320319e-01,  7.88332706e-06,\n",
       "         2.17698068e-02, -3.63304410e-02, -2.87657223e-05],\n",
       "       [-2.59369890e-06,  7.88332706e-06,  1.25452773e-08,\n",
       "         6.96809249e-06, -9.38323521e-06, -4.68733435e-08],\n",
       "       [-1.48637525e-01,  2.17698068e-02,  6.96809249e-06,\n",
       "         9.67376949e-01,  5.68384485e-02, -2.53779362e-05],\n",
       "       [ 2.54089162e-01, -3.63304410e-02, -9.38323521e-06,\n",
       "         5.68384485e-02,  9.00724092e-01,  3.38446150e-05],\n",
       "       [ 9.33714212e-06, -2.87657223e-05, -4.68733435e-08,\n",
       "        -2.53779362e-05,  3.38446150e-05,  1.75137492e-07]])\n",
       "      jac: array([ 2.05099583e-03, -1.36375427e-03,  3.64554751e+05, -7.69376755e-04,\n",
       "        1.43337250e-03,  4.73575635e+04])\n",
       "  message: 'Desired error not necessarily achieved due to precision loss.'\n",
       "     nfev: 948\n",
       "      nit: 6\n",
       "     njev: 117\n",
       "   status: 2\n",
       "  success: False\n",
       "        x: array([ 3.99999839e+03,  6.01996349e+04,  8.15336579e-05,  1.18387252e+04,\n",
       "        7.53500593e+04, -3.05401815e-04])"
      ]
     },
     "execution_count": 5,
     "metadata": {},
     "output_type": "execute_result"
    }
   ],
   "source": [
    "res"
   ]
  },
  {
   "cell_type": "code",
   "execution_count": 6,
   "metadata": {},
   "outputs": [
    {
     "name": "stdout",
     "output_type": "stream",
     "text": [
      "[ 1.00000000e+00  9.92632735e-01  9.82604637e-01  9.69148447e-01\n",
      "  9.51350895e-01  9.28159742e-01  8.98410430e-01  8.60889080e-01\n",
      "  8.14435402e-01  7.58123709e-01  6.91440648e-01  6.14686484e-01\n",
      "  5.29182160e-01  4.37537855e-01  3.43825179e-01  2.53313523e-01\n",
      "  1.71815299e-01  1.04660891e-01  5.52373291e-02  2.38806560e-02\n",
      "  7.66386907e-03  1.46949807e-03  6.19095250e-05 -8.05136540e-06\n",
      "  2.63697169e-06 -1.45937542e-06  1.18320697e-06 -1.30490257e-06\n",
      "  1.87051652e-06 -3.37857217e-06  7.51839096e-06 -2.02631805e-05\n",
      "  6.52552969e-05 -2.48322285e-04  1.10635976e-03 -5.72650234e-03\n",
      "  3.42101314e-02 -2.34444688e-01  1.83247608e+00 -1.62611923e+01\n",
      "  1.63156175e+02 -1.84364544e+03  2.33918335e+04 -3.32165331e+05\n",
      "  5.26378371e+06]\n"
     ]
    }
   ],
   "source": [
    "print(r_m(A1,E1,Y1,A2,E2,Y2)[0])"
   ]
  },
  {
   "cell_type": "code",
   "execution_count": 7,
   "metadata": {},
   "outputs": [
    {
     "name": "stdout",
     "output_type": "stream",
     "text": [
      "[-1.56750320e-04 -2.13363781e-04 -2.86301920e-04 -3.78671325e-04\n",
      " -4.93428774e-04 -6.32964091e-04 -7.98326604e-04 -9.88376119e-04\n",
      " -1.19812113e-03 -1.41878853e-03 -1.63306732e-03 -1.81924094e-03\n",
      " -1.94987883e-03 -1.99388674e-03 -1.92577992e-03 -1.73400477e-03\n",
      " -1.42881718e-03 -1.05156515e-03 -6.67163258e-04 -3.45038019e-04\n",
      " -1.31795128e-04 -2.99486925e-05 -1.48852958e-06  2.27411427e-07\n",
      " -8.71563215e-08  5.62251573e-08 -5.29385009e-08  6.75621083e-08\n",
      " -1.11682738e-07  2.31850279e-07 -5.91097265e-07  1.81954207e-06\n",
      " -6.67186345e-06  2.88230221e-05 -1.45380045e-04  8.49715611e-04\n",
      " -5.71605998e-03  4.39770376e-02 -3.84971667e-01  3.81739079e+00\n",
      " -4.26979068e+01  5.36925084e+02 -7.56504604e+03  1.19062746e+05\n",
      " -2.08678957e+06]\n"
     ]
    }
   ],
   "source": [
    "print(r_m(A1,E1,Y1,A2,E2,Y2)[3])"
   ]
  },
  {
   "cell_type": "code",
   "execution_count": 8,
   "metadata": {},
   "outputs": [
    {
     "data": {
      "image/png": "[encoded data removed]",
      "text/plain": [
       "<Figure size 432x288 with 1 Axes>"
      ]
     },
     "metadata": {
      "needs_background": "light"
     },
     "output_type": "display_data"
    }
   ],
   "source": [
    "plt.plot(T_c[1:46],r_e(V_e,t)[0],linestyle = ':',color = 'Green',label='exp1')\n",
    "plt.plot(T_c[1:40],r_m(A1,E1,Y1,A2,E2,Y2)[3][0:39],color = 'blue',label='mod1')\n",
    "\n",
    "plt.xlabel('Temperature (C)')\n",
    "plt.ylabel('DIG (DV/Dt)')\n",
    "plt.legend()\n",
    "plt.grid()"
   ]
  },
  {
   "cell_type": "code",
   "execution_count": 9,
   "metadata": {},
   "outputs": [
    {
     "data": {
      "image/png": "[encoded data removed]",
      "text/plain": [
       "<Figure size 432x288 with 1 Axes>"
      ]
     },
     "metadata": {
      "needs_background": "light"
     },
     "output_type": "display_data"
    }
   ],
   "source": [
    "plt.plot(T_c[1:46],V_e[1:46],linestyle = ':',color = 'Green',label='exp1')\n",
    "plt.plot(T_c[1:41],r_m(A1,E1,Y1,A2,E2,Y2)[3][0:40],color = 'blue',label='mod12')\n",
    "plt.xlabel('Temperature (C)')\n",
    "plt.ylabel('DIG (DV/Dt)')\n",
    "plt.legend()\n",
    "plt.grid()"
   ]
  },
  {
   "cell_type": "code",
   "execution_count": null,
   "metadata": {},
   "outputs": [],
   "source": []
  }
 ],
 "metadata": {
  "kernelspec": {
   "display_name": "Python 3",
   "language": "python",
   "name": "python3"
  },
  "language_info": {
   "codemirror_mode": {
    "name": "ipython",
    "version": 3
   },
   "file_extension": ".py",
   "mimetype": "text/x-python",
   "name": "python",
   "nbconvert_exporter": "python",
   "pygments_lexer": "ipython3",
   "version": "3.7.3"
  }
 },
 "nbformat": 4,
 "nbformat_minor": 2
}
