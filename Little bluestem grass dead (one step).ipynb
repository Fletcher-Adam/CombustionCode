{
 "cells": [
  {
   "cell_type": "code",
   "execution_count": 2,
   "metadata": {},
   "outputs": [],
   "source": [
    "import numpy as np\n",
    "import os\n",
    "import csv\n",
    "import pandas as pd\n",
    "from scipy.optimize import minimize\n",
    "import matplotlib.pyplot as plt\n",
    "%matplotlib inline"
   ]
  },
  {
   "cell_type": "code",
   "execution_count": 3,
   "metadata": {},
   "outputs": [
    {
     "name": "stdout",
     "output_type": "stream",
     "text": [
      "46\n",
      "46\n",
      "50000.0\n",
      "80000.0\n",
      "0.6250140765029811\n"
     ]
    }
   ],
   "source": [
    "from openpyxl import load_workbook\n",
    "def get_xcel_col(sheet, col, row_start, row_end):\n",
    "    vals = []\n",
    "    \n",
    "    for i in range(row_start, row_end):\n",
    "        vals.append(sheet[col+str(i)].value)\n",
    "    return vals\n",
    "R = 8.314\n",
    "wb = load_workbook(r'C:\\Users\\Adam\\Desktop\\CombustionCode-master\\Data1.xlsx')\n",
    "s1 = wb['Little bluestem grass_dead']\n",
    "t = get_xcel_col(s1, 'A', 11, 57)\n",
    "T_c = get_xcel_col(s1, 'B', 11, 57)\n",
    "T = T_c + np.array(273.15)\n",
    "m_e = get_xcel_col(s1, 'D', 11, 57)\n",
    "c = m_e / np.array(s1['D11'].value)\n",
    "V_e = 1 - c\n",
    "def r_e(V_e, t):\n",
    "    dV_e = []\n",
    "    dt1 = []\n",
    "    dm_e = []\n",
    "    for i in range(1, len(V_e)):\n",
    "        dV_e.append(V_e[i] - V_e[i-1])\n",
    "        dm_e.append(m_e[i]-m_e[i-1])\n",
    "    for i in range(1, len(t)):\n",
    "        dt1.append(t[i] - t[i-1])\n",
    "    dV_e = np.array(dV_e)\n",
    "    dm_e = np.array(dm_e)\n",
    "    dt1 = np.array(dt1)\n",
    "    r_e = dV_e / dt1\n",
    "    r_em = dm_e / dt1\n",
    "    return(r_e, r_em)\n",
    "\n",
    "\n",
    "A1 = 50000\n",
    "E1 = 80000\n",
    "Y1 = .5\n",
    "\n",
    "def r_m(A,E,Y1):\n",
    "    V = np.zeros(len(t)-1)\n",
    "    m = np.zeros(len(t)-1)\n",
    "    dt=np.zeros(len(t)-1)\n",
    "    dV = np.zeros(len(t)-1)\n",
    "    dm = np.zeros(len(t)-1)\n",
    "    for i in range(1, len(t)-1):\n",
    "        dt[i]=t[i]-t[i-1]\n",
    "    m[0] = 1\n",
    "    V[0] = 0\n",
    "    dm[0] = (Y1*A1*np.exp(-E1/R/T[0]))*m[0]\n",
    "    dV[0] = -(A1*np.exp(-E1/R/T[0]))*m[0]\n",
    "\n",
    "    for i in range(1, len(t)-1):\n",
    "        m[i] = m[i-1]+dm[i-1]*dt[i]\n",
    "\n",
    "        dm[i] = -(A1*np.exp(-E1/R/T[i]))*m[i]\n",
    "        dV[i] = (Y1*A1*np.exp(-E1/R/T[i]))*m[i]\n",
    "        V[i]=V[i-1]+dV[i-1]*dt[i]\n",
    "        \n",
    "    return(m, V, dV, dm)\n",
    "\n",
    "print(len(V_e))\n",
    "print(len(t))\n",
    "def f(X):\n",
    "    A1,E1,Y1 = X\n",
    "    e1 = ((r_e(V_e, t)[0] - r_m(A1,E1,Y1)[2])**2)\n",
    "    e2 = ((V_e[1:46] - r_m(A1,E1,Y1)[1]))**2\n",
    "    return(sum(e1) + sum(e2))\n",
    "\n",
    "res = minimize(f,(A1,E1,Y1))\n",
    "A1,E1,Y1 = res.x\n",
    "print(A1)\n",
    "print(E1)\n",
    "print(Y1)\n",
    "\n",
    "\n",
    "e1 = (r_e(V_e, t)[0] - r_m(A1,E1,Y1)[2])**2\n",
    "e2 = (V_e[1:46] - r_m(A1,E1,Y1)[1])**2"
   ]
  },
  {
   "cell_type": "code",
   "execution_count": 4,
   "metadata": {},
   "outputs": [
    {
     "name": "stdout",
     "output_type": "stream",
     "text": [
      "45\n",
      "45\n",
      "14817.45968292754\n",
      "69574.03854620016\n",
      "0.6051443659624439\n"
     ]
    }
   ],
   "source": [
    "t2 = get_xcel_col(s1, 'P', 11, 56)\n",
    "print(len(t2))\n",
    "T_c2 = get_xcel_col(s1, 'Q', 11, 56)\n",
    "T2 = T_c2 + np.array(273.15)\n",
    "m_e2 = get_xcel_col(s1, 'S', 11, 56)\n",
    "m_n2 = m_e2 / np.array(s1['S11'].value)\n",
    "V_e2 = 1 - m_n2\n",
    "print(len(V_e2))\n",
    "\n",
    "def r_e2(V_e2, t2):\n",
    "    dV_e2 = []\n",
    "    dt2 = []\n",
    "    dm_e2 = []\n",
    "    for i in range(1, len(V_e2)):\n",
    "        dV_e2.append(V_e2[i] - V_e2[i-1])\n",
    "        dm_e2.append(m_e2[i]-m_e2[i-1])\n",
    "    for i in range(1, len(t2)):\n",
    "        dt2.append(t2[i] - t2[i-1])\n",
    "    dV_e2 = np.array(dV_e2)\n",
    "    dm_e2 = np.array(dm_e2)\n",
    "    dt2 = np.array(dt2)\n",
    "    r_e2 = dV_e2/ dt2\n",
    "    r_em2 = dm_e2 / dt2\n",
    "    return(r_e2, r_em2)\n",
    "    \n",
    "\n",
    "\n",
    "A2 = 5000\n",
    "E2 = 80000\n",
    "Y2 = .01\n",
    "\n",
    "def r_m2(A2,E2,Y2):\n",
    "    V = np.zeros(len(t2)-1)\n",
    "    m = np.zeros(len(t2)-1)\n",
    "    dt2 = np.zeros(len(t2)-1)\n",
    "    dV = np.zeros(len(t2)-1)\n",
    "    dm = np.zeros(len(t2)-1)\n",
    "    for i in range(1, len(t2)-1):\n",
    "        dt2[i] = t2[i] - t2[i-1]\n",
    "        \n",
    "    m[0] = 1\n",
    "    V[0] = 0\n",
    "    dm[0] = (Y2*A2*np.exp(-E2/R/T[0]))*m[0]\n",
    "    dV[0] = -(A2*np.exp(-E2/R/T[0]))*m[0]\n",
    "\n",
    "    for i in range(1, len(t2)-1):\n",
    "        m[i] = m[i-1] + dm[i-1]*dt2[i]\n",
    "\n",
    "        dm[i] = -(A2*np.exp(-E2/R/T[i]))*m[i]\n",
    "        dV[i] = (Y2*A2*np.exp(-E2/R/T[i]))*m[i]\n",
    "        V[i] = V[i-1] + dV[i-1]*dt2[i]\n",
    "    return(m, V, dV, dm)\n",
    "def f2(X):\n",
    "    A2,E2,Y2 = X\n",
    "    e1 = (r_e2(V_e2, t2)[0] - r_m2(A2,E2,Y2)[2])**2\n",
    "    e2 = (V_e2[1:45] - r_m2(A2,E2,Y2)[1])**2\n",
    "    return(sum(e1) + sum(e2))\n",
    "\n",
    "\n",
    "res2 = minimize(f2,(A2,E2,Y2))\n",
    "A2,E2,Y2 = res2.x\n",
    "print(A2)\n",
    "print(E2)\n",
    "print(Y2)\n",
    "\n",
    "\n",
    "e1 = (r_e2(V_e2, t2)[0] - r_m2(A2,E2,Y2)[2])**2\n",
    "e2 = (V_e2[1:45] - r_m2(A2,E2,Y2)[1])**2\n"
   ]
  },
  {
   "cell_type": "code",
   "execution_count": 5,
   "metadata": {},
   "outputs": [
    {
     "name": "stdout",
     "output_type": "stream",
     "text": [
      "44\n",
      "44\n",
      "8514.064214145812\n",
      "66265.08520579657\n",
      "0.6099220698800664\n"
     ]
    }
   ],
   "source": [
    "t3 = get_xcel_col(s1, 'AE', 11, 55)\n",
    "T_c3 = get_xcel_col(s1, 'AF', 11, 55)\n",
    "T3 = T_c3 + np.array(273.15)\n",
    "m_e3 = get_xcel_col(s1, 'AH', 11, 55)\n",
    "m_n3 = m_e3 / np.array(s1['AH11'].value)\n",
    "V_e3 = 1 - m_n3\n",
    "\n",
    "def r_e3(V_e3, t3):\n",
    "    dV_e3 = []\n",
    "    dt3 = []\n",
    "    dm_e3 = []\n",
    "    for i in range(1, len(V_e3)):\n",
    "        dV_e3.append(V_e3[i] - V_e3[i-1])\n",
    "        dm_e3.append(m_e3[i]-m_e3[i-1])\n",
    "    for i in range(1, len(t3)):\n",
    "        dt3.append(t3[i] - t3[i-1])\n",
    "    dV_e3 = np.array(dV_e3)\n",
    "    dm_e3 = np.array(dm_e3)\n",
    "    dt3 = np.array(dt3)\n",
    "    r_e3 = dV_e3 / dt3\n",
    "    r_em3 = dm_e3 / dt3\n",
    "    return(r_e3, r_em3)\n",
    "\n",
    "\n",
    "A3 = 5000\n",
    "E3 = 70000\n",
    "Y3 = .01\n",
    "\n",
    "def r_m3(A3,E3,Y3):\n",
    "    V = np.zeros(len(t3)-1)\n",
    "    m = np.zeros(len(t3)-1)\n",
    "    dt3=np.zeros(len(t3)-1)\n",
    "    dV = np.zeros(len(t3)-1)\n",
    "    dm = np.zeros(len(t3)-1)\n",
    "    for i in range(1, len(t3)-1):\n",
    "        dt3[i] = t3[i] - t3[i-1]\n",
    "   \n",
    "        \n",
    "    m[0] = 1\n",
    "    V[0] = 0\n",
    "    dm[0] = -(Y3*A3*np.exp(-E3/R/T[0]))*m[0]\n",
    "    dV[0] = (A3*np.exp(-E3/R/T[0]))*m[0]\n",
    "    for i in range(1, len(t3)-1):\n",
    "        m[i] = m[i-1] + dm[i-1]*dt3[i]\n",
    "\n",
    "        dm[i] = -(A3*np.exp(-E3/R/T[i]))*m[i]\n",
    "        dV[i] = (Y3*A3*np.exp(-E3/R/T[i]))*m[i]\n",
    "        V[i] = V[i-1] + dV[i-1]*dt3[i]\n",
    "    \n",
    "        \n",
    "    return(m, V, dV, dm)\n",
    "def f3(X):\n",
    "    A3,E3,Y3 = X\n",
    "    e1 = (r_e3(V_e3, t3)[0] - r_m3(A3,E3,Y3)[2])**2\n",
    "    e2 = (V_e3[0:43] - r_m3(A3,E3,Y3)[1])**2\n",
    "    \n",
    "    return(sum(e1) + sum(e2))\n",
    "\n",
    "print(len(V_e3))\n",
    "print(len(t3))\n",
    "\n",
    "res3 = minimize(f3,(A3,E3,Y3))\n",
    "A3,E3,Y3 = res3.x\n",
    "print(A3)\n",
    "print(E3)\n",
    "print(Y3)\n",
    "\n",
    "\n",
    "e1 = (r_e3(V_e3, t3)[0] - r_m3(A3,E3,Y3)[2])**2\n",
    "e2 = (V_e3[1:45] - r_m3(A3,E3,Y3)[1])**2\n",
    "\n"
   ]
  },
  {
   "cell_type": "code",
   "execution_count": 23,
   "metadata": {},
   "outputs": [
    {
     "name": "stdout",
     "output_type": "stream",
     "text": [
      "39979.54304820585\n",
      "73600.60040936417\n",
      "0.4515247072042045\n"
     ]
    }
   ],
   "source": [
    "YT =.604\n",
    "AT = 4100\n",
    "ET = 66700\n",
    "\n",
    "def totf(XT):\n",
    "    AT,ET,YT = XT\n",
    "    e1T = (V_e[0:45]*1 - r_m(AT,ET,YT)[1]*1)**2\n",
    "    e2T = (r_e(V_e, t)[0]*1 - r_m(AT,ET,YT)[2]*1)**2\n",
    "    e1_2T = (V_e2[0:44]*1 - r_m2(AT,ET,YT)[1]*1)**2\n",
    "    e2_2T = (r_e2(V_e2, t2)[0]*1 - r_m2(AT,ET,YT)[2]*1)**2\n",
    "    e1_3T = (V_e3[0:43]*1 - r_m3(AT,ET,YT)[1]*1)**2\n",
    "    e2_3T = (r_e3(V_e3, t3)[0]*1 - r_m3(AT,ET,YT)[2]*1)**2\n",
    "    return(sum(e1T) + sum(e2T) + sum(e1_2T) + sum(e2_2T) + sum(e1_3T) + sum(e2_3T))\n",
    "res = minimize(totf,(AT,ET,YT))\n",
    "AT,ET,YT = res.x\n",
    "print(AT)\n",
    "print(ET)\n",
    "print(YT)"
   ]
  },
  {
   "cell_type": "code",
   "execution_count": 24,
   "metadata": {},
   "outputs": [
    {
     "data": {
      "image/png": "[encoded data removed]",
      "text/plain": [
       "<Figure size 432x288 with 1 Axes>"
      ]
     },
     "metadata": {
      "needs_background": "light"
     },
     "output_type": "display_data"
    }
   ],
   "source": [
    "plt.plot(T_c[0:45],r_e(V_e,t)[0],linestyle = ':',color = 'Green',label='exp1')\n",
    "plt.plot(T_c2[0:44],r_e2(V_e2,t2)[0],linestyle = ':',color = 'Blue',label='exp2')\n",
    "plt.plot(T_c3[0:43],r_e3(V_e3,t3)[0],linestyle = ':',color = 'Purple',label='exp3')\n",
    "plt.xlabel('Temperature (C)')\n",
    "plt.ylabel('DIG (DV/Dt)')\n",
    "plt.plot(T_c[0:43],r_m(AT,ET,YT)[2][0:43],color = 'Green',label='mod1')\n",
    "plt.plot(T_c2[0:44],r_m2(AT,ET,YT)[2][0:44],color = 'Blue',label='mod2')\n",
    "plt.plot(T_c3[0:43],r_m3(AT,ET,YT)[2][0:43],color = 'Purple',label='mod3')\n",
    "plt.xlabel('Temperature (C)')\n",
    "plt.ylabel('DIG (DV/Dt)')\n",
    "plt.legend()\n",
    "plt.grid()"
   ]
  },
  {
   "cell_type": "code",
   "execution_count": 8,
   "metadata": {},
   "outputs": [
    {
     "data": {
      "image/png": "[encoded data removed]",
      "text/plain": [
       "<Figure size 432x288 with 1 Axes>"
      ]
     },
     "metadata": {
      "needs_background": "light"
     },
     "output_type": "display_data"
    }
   ],
   "source": [
    "plt.plot(T_c,V_e,linestyle = ':',color = 'Green',label='exp1')\n",
    "plt.plot(T_c2,V_e2,linestyle = ':',color = 'Blue',label='exp2')\n",
    "plt.plot(T_c3,V_e3,linestyle = ':',color = 'Purple',label='exp3')\n",
    "plt.xlabel('Temperature (C)')\n",
    "plt.ylabel('TG (V)')\n",
    "plt.plot(T_c[0:45],r_m(AT,ET,YT)[1],'g-',label='mod1')\n",
    "plt.plot(T_c2[0:44],r_m2(AT,ET,YT)[1],'b-',label='mod2')\n",
    "plt.plot(T_c3[0:43],r_m3(AT,ET,YT)[1],linestyle ='-', color=\"Purple\",label='mod3')\n",
    "plt.xlabel('Temperature (C)')\n",
    "plt.ylabel('TG (V)')\n",
    "plt.legend()\n",
    "plt.grid()"
   ]
  }
 ],
 "metadata": {
  "kernelspec": {
   "display_name": "Python 3",
   "language": "python",
   "name": "python3"
  },
  "language_info": {
   "codemirror_mode": {
    "name": "ipython",
    "version": 3
   },
   "file_extension": ".py",
   "mimetype": "text/x-python",
   "name": "python",
   "nbconvert_exporter": "python",
   "pygments_lexer": "ipython3",
   "version": "3.7.3"
  }
 },
 "nbformat": 4,
 "nbformat_minor": 2
}
