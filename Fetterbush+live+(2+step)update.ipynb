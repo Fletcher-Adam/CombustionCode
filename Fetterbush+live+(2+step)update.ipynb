{
 "cells": [
  {
   "cell_type": "code",
   "execution_count": 56,
   "metadata": {
    "collapsed": true
   },
   "outputs": [],
   "source": [
    "import numpy as np\n",
    "import os\n",
    "import csv\n",
    "import pandas as pd\n",
    "from scipy.optimize import minimize\n",
    "import matplotlib.pyplot as plt\n",
    "%matplotlib inline\n"
   ]
  },
  {
   "cell_type": "code",
   "execution_count": 57,
   "metadata": {
    "scrolled": true
   },
   "outputs": [
    {
     "name": "stdout",
     "output_type": "stream",
     "text": [
      "5527.42823859\n",
      "9182476.0\n",
      "73114.9029937\n",
      "1515186.0\n",
      "0.648456899828\n",
      "0.98458\n"
     ]
    }
   ],
   "source": [
    "from openpyxl import load_workbook\n",
    "def get_xcel_col(sheet, col, row_start, row_end):\n",
    "    vals = []\n",
    "    \n",
    "    for i in range(row_start, row_end):\n",
    "        vals.append(sheet[col+str(i)].value)\n",
    "    return vals\n",
    "R = 8.314\n",
    "wb = load_workbook(r'C:\\Users\\fletc\\Downloads\\simple 2 step model.xlsx')\n",
    "\n",
    "#Remember to change the path so it works on your computer\n",
    "\n",
    "s1 = wb['Sheet1']\n",
    "t = get_xcel_col(s1, 'A', 11, 57)\n",
    "T_c = get_xcel_col(s1, 'B', 11, 57)\n",
    "T = T_c + np.array(273.15)\n",
    "m_e = get_xcel_col(s1, 'D', 11, 57)\n",
    "c = m_e / np.array(s1['D11'].value)\n",
    "V_e = 1 - c\n",
    "def r_e(V_e, t):\n",
    "    dV_e = []\n",
    "    dt1 = []\n",
    "    dm_e = []\n",
    "    for i in range(1, len(V_e)):\n",
    "        dV_e.append(V_e[i] - V_e[i-1])\n",
    "        dm_e.append(m_e[i]-m_e[i-1])\n",
    "    for i in range(1, len(t)):\n",
    "        dt1.append(t[i] - t[i-1])\n",
    "    dV_e = np.array(dV_e)\n",
    "    dm_e = np.array(dm_e)\n",
    "    dt1 = np.array(dt1)\n",
    "    r_e = dV_e / dt1\n",
    "    r_em = dm_e / dt1\n",
    "    return(r_e, r_em)\n",
    "\n",
    "A1 = 7282.63\n",
    "A2 = 9182476\n",
    "E1 = 70372.5\n",
    "E2 = 1515186\n",
    "Y1 = .63007\n",
    "Y2 = .98458\n",
    "\n",
    "def r_m(A1,A2,E1,E2,Y1,Y2):\n",
    "    V_m = np.zeros(len(t)-1)\n",
    "    r_m = np.zeros(len(t)-1)\n",
    "    dt2 = np.zeros(len(t)-1)\n",
    "    dV_o = np.zeros(len(t)-1)\n",
    "    dm_o = np.zeros(len(t)-1)\n",
    "    for i in range(1, len(t)-1):\n",
    "        dt2[i] = t[i+1] - t[i] \n",
    "        \n",
    "    dm_o[0] = 1\n",
    "    dV_o[0] = 0\n",
    "    r_m[0] = -(A1*np.exp(-E1/R/T[0])+A2*np.exp(-E2/R/T[0]))*dm_o[0]\n",
    "    V_m[0] = (Y1*A1*np.exp(-E1/R/T[0])+Y2*A2*np.exp(-E2/R/T[0]))*dm_o[0]\n",
    "\n",
    "    for i in range(1, len(t)-1):\n",
    "        dm_o[i] = dm_o[i-1]+r_m[i-1]*dt2[i]\n",
    "        r_m[i] = -(A1*np.exp(-E1/R/T[i])+A2*np.exp(-E2/R/T[i]))*dm_o[i]\n",
    "        V_m[i] = (Y1*A1*np.exp(-E1/R/T[i])+Y2*A2*np.exp(-E2/R/T[i]))*dm_o[i]\n",
    "        dV_o[i] = dV_o[i-1]+V_m[i]*dt2[i]\n",
    "    return(r_m, V_m, dV_o,dm_o)\n",
    "def f(X):\n",
    "    A1,A2,E1,E2,Y1,Y2 = X\n",
    "    e1 = (r_e(V_e, t)[0] - r_m(A1,A2,E1,E2,Y1,Y2)[1])**2\n",
    "    e2 = (V_e[1:46] - r_m(A1,A2,E1,E2,Y1,Y2)[2])**2\n",
    "    return(sum(e2)+sum(e1))\n",
    "\n",
    "res = minimize(f,(A1,A2,E1,E2,Y1,Y2))\n",
    "A1,A2,E1,E2,Y1,Y2 = res.x\n",
    "print(A1)\n",
    "print(A2)\n",
    "print(E1)\n",
    "print(E2)\n",
    "print(Y1)\n",
    "print(Y2)\n",
    "\n",
    "e1 = (r_e(V_e, t)[0] - r_m(A1,A2,E1,E2,Y1,Y2)[1])**2\n",
    "e2 = (r_e(V_e, t)[1] - r_m(A1,A2,E1,E2,Y1,Y2)[0])**2"
   ]
  },
  {
   "cell_type": "code",
   "execution_count": 58,
   "metadata": {},
   "outputs": [
    {
     "name": "stdout",
     "output_type": "stream",
     "text": [
      "[  1.00000000e+00   9.99753205e-01   9.99392331e-01   9.98871298e-01\n",
      "   9.98130214e-01   9.97088332e-01   9.95642565e-01   9.93657263e-01\n",
      "   9.90962180e-01   9.87342987e-01   9.82534253e-01   9.76214100e-01\n",
      "   9.67988748e-01   9.57395665e-01   9.43896350e-01   9.26881493e-01\n",
      "   9.05671661e-01   8.79548689e-01   8.47774499e-01   8.09666547e-01\n",
      "   7.64652644e-01   7.12399988e-01   6.52870995e-01   5.86541048e-01\n",
      "   5.14471378e-01   4.38383267e-01   3.60728487e-01   2.84623012e-01\n",
      "   2.13347552e-01   1.50166187e-01   9.77309968e-02   5.76857367e-02\n",
      "   3.00793947e-02   1.33251711e-02   4.71861063e-03   1.19517067e-03\n",
      "   1.67644653e-04   2.04334538e-06  -2.66991593e-07   7.75793766e-08\n",
      "  -3.63590803e-08   2.42226069e-08  -2.14579674e-08   2.42104814e-08\n",
      "  -3.37981012e-08]\n"
     ]
    }
   ],
   "source": [
    "print(r_m(A1,A2,E1,E2,Y1,Y2)[3])"
   ]
  },
  {
   "cell_type": "code",
   "execution_count": 59,
   "metadata": {},
   "outputs": [
    {
     "name": "stdout",
     "output_type": "stream",
     "text": [
      "6143.82075256\n",
      "9000000.0\n",
      "71579.2124099\n",
      "1500600.0\n",
      "0.653823228709\n",
      "0.98\n"
     ]
    }
   ],
   "source": [
    "t2 = get_xcel_col(s1, 'T', 11, 56)\n",
    "T_c2 = get_xcel_col(s1, 'U', 11, 56)\n",
    "T2 = T_c2 + np.array(273.15)\n",
    "m_e2 = get_xcel_col(s1, 'W', 11, 56)\n",
    "c2 = m_e2 / np.array(s1['W11'].value)\n",
    "V_e2 = 1 - c2\n",
    "def r_e2(V_e2, t2):\n",
    "    dV_e2 = []\n",
    "    dt1_2 = []\n",
    "    dm_e2 = []\n",
    "    for i in range(1, len(V_e2)):\n",
    "        dV_e2.append(V_e2[i] - V_e2[i-1])\n",
    "        dm_e2.append(m_e2[i]-m_e2[i-1])\n",
    "    for i in range(1, len(t2)):\n",
    "        dt1_2.append(t2[i] - t2[i-1])\n",
    "    dV_e2 = np.array(dV_e2)\n",
    "    dm_e2 = np.array(dm_e2)\n",
    "    dt1_2 = np.array(dt1_2)\n",
    "    r_e2 = dV_e2 / dt1_2\n",
    "    r_em2 = dm_e2 / dt1_2\n",
    "    return(r_e2, r_em2)\n",
    "\n",
    "A1_2 = 7200\n",
    "A2_2 = 9000000\n",
    "E1_2 = 70000\n",
    "E2_2 = 1500600\n",
    "Y1_2 = .63\n",
    "Y2_2 = .98\n",
    "\n",
    "def r_m2(A1_2,A2_2,E1_2,E2_2,Y1_2,Y2_2):\n",
    "    V_m2 = np.zeros(len(t2)-1)\n",
    "    r_m2 = np.zeros(len(t2)-1)\n",
    "    dt2_2 = np.zeros(len(t2)-1)\n",
    "    dV_o2 = np.zeros(len(t2)-1)\n",
    "    dm_o2 = np.zeros(len(t2)-1)\n",
    "    for i in range(1, len(t2)-1):\n",
    "        dt2_2[i] = t2[i+1] - t2[i] \n",
    "    dm_o2[0] = 1   \n",
    "    dV_o2[0] = 0\n",
    "    r_m2[0] = -(A1_2*np.exp(-E1_2/R/T2[0])+A2_2*np.exp(-E2_2/R/T2[0]))*dm_o2[0]\n",
    "    V_m2[0] = (Y1_2*A1_2*np.exp(-E1_2/R/T2[0])+Y2_2*A2_2*np.exp(-E2_2/R/T2[0]))*dm_o2[0]\n",
    "\n",
    "    for i in range(1, len(t2)-1):\n",
    "        dm_o2[i] = dm_o2[i-1]+r_m2[i-1]*dt2_2[i]\n",
    "        r_m2[i] = -(A1_2*np.exp(-E1_2/R/T2[i])+A2_2*np.exp(-E2_2/R/T2[i]))*dm_o2[i]\n",
    "        V_m2[i] = (Y1_2*A1_2*np.exp(-E1_2/R/T2[i])+Y2_2*A2_2*np.exp(-E2_2/R/T2[i]))*dm_o2[i]\n",
    "        dV_o2[i] = dV_o2[i-1]+V_m2[i]*dt2_2[i]\n",
    "    return(r_m2, V_m2, dV_o2)\n",
    "def f2(X):\n",
    "    A1_2,A2_2,E1_2,E2_2,Y1_2,Y2_2 = X\n",
    "    e1_2 = (r_e2(V_e2, t2)[0] - r_m2(A1_2,A2_2,E1_2,E2_2,Y1_2,Y2_2)[1])**2\n",
    "    e2_2 = (V_e2[1:45] - r_m2(A1_2,A2_2,E1_2,E2_2,Y1_2,Y2_2)[2])**2\n",
    "    return(sum(e2_2)+sum(e1_2))\n",
    "\n",
    "res = minimize(f2,(A1_2,A2_2,E1_2,E2_2,Y1_2,Y2_2))\n",
    "A1_2,A2_2,E1_2,E2_2,Y1_2,Y2_2 = res.x\n",
    "print(A1_2)\n",
    "print(A2_2)\n",
    "print(E1_2)\n",
    "print(E2_2)\n",
    "print(Y1_2)\n",
    "print(Y2_2)\n",
    "\n",
    "e1_2 = (r_e2(V_e2, t2)[0] - r_m2(A1_2,A2_2,E1_2,E2_2,Y1_2,Y2_2)[1])**2\n",
    "e2_2 = (r_e2(V_e2, t2)[1] - r_m2(A1_2,A2_2,E1_2,E2_2,Y1_2,Y2_2)[0])**2"
   ]
  },
  {
   "cell_type": "code",
   "execution_count": 61,
   "metadata": {},
   "outputs": [
    {
     "name": "stdout",
     "output_type": "stream",
     "text": [
      "8171.81830763\n",
      "9000000.0\n",
      "68478.2182312\n",
      "1500600.0\n",
      "0.630114714438\n",
      "0.98\n"
     ]
    }
   ],
   "source": [
    "t3 = get_xcel_col(s1, 'AM', 11, 55)\n",
    "T_c3 = get_xcel_col(s1, 'AN', 11, 55)\n",
    "T3 = T_c3 + np.array(273.15)\n",
    "m_e3 = get_xcel_col(s1, 'AP', 11, 55)\n",
    "c3 = m_e3 / np.array(s1['AP11'].value)\n",
    "V_e3 = 1 - c3\n",
    "def r_e3(V_e3, t3):\n",
    "    dV_e3 = []\n",
    "    dt1_3 = []\n",
    "    dm_e3 = []\n",
    "    for i in range(1, len(V_e3)):\n",
    "        dV_e3.append(V_e3[i] - V_e3[i-1])\n",
    "        dm_e3.append(m_e3[i]-m_e3[i-1])\n",
    "    for i in range(1, len(t3)):\n",
    "        dt1_3.append(t3[i] - t3[i-1])\n",
    "    dV_e3 = np.array(dV_e3)\n",
    "    dm_e3 = np.array(dm_e3)\n",
    "    dt1_3 = np.array(dt1_3)\n",
    "    r_e3 = dV_e3 / dt1_3\n",
    "    r_em3 = dm_e3 / dt1_3\n",
    "    return(r_e3, r_em3)\n",
    "\n",
    "A1_3 = 7200\n",
    "A2_3 = 9000000\n",
    "E1_3 = 70000\n",
    "E2_3 = 1500600\n",
    "Y1_3 = .63\n",
    "Y2_3 = .98\n",
    "\n",
    "def r_m3(A1_3,A2_3,E1_3,E2_3,Y1_3,Y2_3):\n",
    "    V_m3 = np.zeros(len(t3)-1)\n",
    "    r_m3 = np.zeros(len(t3)-1)\n",
    "    dt2_3 = np.zeros(len(t3)-1)\n",
    "    dV_o3 = np.zeros(len(t3)-1)\n",
    "    dm_o3 = np.zeros(len(t3)-1)\n",
    "    for i in range(1, len(t3)-1):\n",
    "        dt2_3[i] = t3[i+1] - t3[i] \n",
    "        \n",
    "    dV_o3[0] = 0\n",
    "    dm_o3[0] = 1   \n",
    "    r_m3[0] = -(A1_3*np.exp(-E1_3/R/T3[0])+A2_3*np.exp(-E2_3/R/T3[0]))*dm_o3[0]\n",
    "    V_m3[0] = (Y1_3*A1_3*np.exp(-E1_3/R/T3[0])+Y2_3*A2_3*np.exp(-E2_3/R/T3[0]))*dm_o3[0]\n",
    "\n",
    "    for i in range(1, len(t3)-1):\n",
    "        dm_o3[i] = dm_o3[i-1]+r_m3[i-1]*dt2_3[i]\n",
    "        r_m3[i] = -(A1_3*np.exp(-E1_3/R/T3[i])+A2_3*np.exp(-E2_3/R/T3[i]))*dm_o3[i]\n",
    "        V_m3[i] = (Y1_3*A1_3*np.exp(-E1_3/R/T3[i])+Y2_3*A2_3*np.exp(-E2_3/R/T3[i]))*dm_o3[i]\n",
    "        dV_o3[i] = dV_o3[i-1]+V_m3[i]*dt2_3[i]\n",
    "    return(r_m3, V_m3, dV_o3)\n",
    "def f3(X):\n",
    "    A1_3,A2_3,E1_3,E2_3,Y1_3,Y2_3 = X\n",
    "    e1_3 = (r_e3(V_e3, t3)[0] - r_m3(A1_3,A2_3,E1_3,E2_3,Y1_3,Y2_3)[1])**2\n",
    "    e2_3 = (V_e3[1:44] - r_m3(A1_3,A2_3,E1_3,E2_3,Y1_3,Y2_3)[2])**2\n",
    "    return(sum(e2_3)+sum(e1_3))\n",
    "\n",
    "res = minimize(f3,(A1_3,A2_3,E1_3,E2_3,Y1_3,Y2_3))\n",
    "A1_3,A2_3,E1_3,E2_3,Y1_3,Y2_3 = res.x\n",
    "print(A1_3)\n",
    "print(A2_3)\n",
    "print(E1_3)\n",
    "print(E2_3)\n",
    "print(Y1_3)\n",
    "print(Y2_3)\n",
    "\n",
    "e1_3 = (r_e3(V_e3, t3)[0] - r_m3(A1_3,A2_3,E1_3,E2_3,Y1_3,Y2_3)[1])**2\n",
    "e2_3 = (r_e3(V_e3, t3)[1] - r_m3(A1_3,A2_3,E1_3,E2_3,Y1_3,Y2_3)[0])**2"
   ]
  },
  {
   "cell_type": "code",
   "execution_count": 70,
   "metadata": {},
   "outputs": [
    {
     "name": "stdout",
     "output_type": "stream",
     "text": [
      "6358.57605567\n",
      "9000000.0\n",
      "70963.2572903\n",
      "1500000.0\n",
      "0.639697714327\n",
      "0.9\n"
     ]
    }
   ],
   "source": [
    "\n",
    "A1T = 7000\n",
    "A2T = 9000000\n",
    "E1T = 70000\n",
    "E2T = 1500000\n",
    "Y1T = .6\n",
    "Y2T = .9\n",
    "\n",
    "def totf(XT):\n",
    "    A1T,A2T,E1T,E2T,Y1T,Y2T = XT\n",
    "    e1_2T = (r_e2(V_e2, t2)[0] - r_m2(A1T,A2T,E1T,E2T,Y1T,Y2T)[1])**2\n",
    "    e2_2T = (V_e2[1:45] - r_m2(A1T,A2T,E1T,E2T,Y1T,Y2T)[2])**2\n",
    "    e1T = (r_e(V_e, t)[0] - r_m(A1T,A2T,E1T,E2T,Y1T,Y2T)[1])**2\n",
    "    e2T = (V_e[1:46] - r_m(A1T,A2T,E1T,E2T,Y1T,Y2T)[2])**2\n",
    "    e1_3T = (r_e3(V_e3, t3)[0] - r_m3(A1T,A2T,E1T,E2T,Y1T,Y2T)[1])**2\n",
    "    e2_3T = (V_e3[1:44] - r_m3(A1T,A2T,E1T,E2T,Y1T,Y2T)[2])**2\n",
    "    return(sum(e1T) + sum(e2T) + sum(e1_2T) + sum(e2_2T) + sum(e1_3T) + sum(e2_3T))\n",
    "res = minimize(totf,(A1T,A2T,E1T,E2T,Y1T,Y2T))\n",
    "A1T,A2T,E1T,E2T,Y1T,Y2T = res.x\n",
    "print(A1T)\n",
    "print(A2T)\n",
    "print(E1T)\n",
    "print(E2T)\n",
    "print(Y1T)\n",
    "print(Y2T)"
   ]
  },
  {
   "cell_type": "code",
   "execution_count": 71,
   "metadata": {},
   "outputs": [
    {
     "data": {
      "text/plain": [
       "      fun: 0.4837999873171844\n",
       " hess_inv: array([[ 5.57488671,  0.        , -2.89974406,  0.        ,  0.07442908,\n",
       "         0.        ],\n",
       "       [ 0.        ,  1.        ,  0.        ,  0.        ,  0.        ,\n",
       "         0.        ],\n",
       "       [-2.89974406,  0.        ,  1.60839378,  0.        , -0.0384033 ,\n",
       "         0.        ],\n",
       "       [ 0.        ,  0.        ,  0.        ,  1.        ,  0.        ,\n",
       "         0.        ],\n",
       "       [ 0.07442908,  0.        , -0.0384033 ,  0.        ,  0.00865887,\n",
       "         0.        ],\n",
       "       [ 0.        ,  0.        ,  0.        ,  0.        ,  0.        ,\n",
       "         1.        ]])\n",
       "      jac: array([ -7.48783350e-07,   0.00000000e+00,  -4.76837158e-07,\n",
       "         0.00000000e+00,   3.54647636e-06,   0.00000000e+00])\n",
       "  message: 'Optimization terminated successfully.'\n",
       "     nfev: 328\n",
       "      nit: 11\n",
       "     njev: 41\n",
       "   status: 0\n",
       "  success: True\n",
       "        x: array([  6.35857606e+03,   9.00000000e+06,   7.09632573e+04,\n",
       "         1.50000000e+06,   6.39697714e-01,   9.00000000e-01])"
      ]
     },
     "execution_count": 71,
     "metadata": {},
     "output_type": "execute_result"
    }
   ],
   "source": [
    "res"
   ]
  },
  {
   "cell_type": "code",
   "execution_count": 72,
   "metadata": {},
   "outputs": [
    {
     "data": {
      "image/png": "[encoded data removed]",
      "text/plain": [
       "<matplotlib.figure.Figure at 0x2576ec4ecf8>"
      ]
     },
     "metadata": {},
     "output_type": "display_data"
    }
   ],
   "source": [
    "plt.plot(T_c[0:45],r_e(V_e,t)[0],'o',ms=5,color = 'green',label='exp_10 $^\\circ$C/min')\n",
    "plt.plot(T_c[0:45],r_m(A1T,A2T,E1T,E2T,Y1T,Y2T)[1],color = 'k',label='model')\n",
    "plt.plot(T_c2[0:44],r_e2(V_e2,t2)[0],'s',ms=5,color = 'Blue',label='exp_20 $^\\circ$C/min')\n",
    "plt.plot(T_c2[0:44],r_m2(A1T,A2T,E1T,E2T,Y1T,Y2T)[1],color = 'k')\n",
    "plt.plot(T_c3[0:43],r_e3(V_e3,t3)[0],'^',ms=5,color = 'M',label='exp_30 $^\\circ$C/min')\n",
    "plt.plot(T_c3[0:43],r_m3(A1T,A2T,E1T,E2T,Y1T,Y2T)[1],color = 'k')\n",
    "plt.xlabel('Temperature ($^\\circ$C)')\n",
    "plt.ylabel('DTG (DV/Dt)')\n",
    "plt.legend()\n",
    "plt.show()"
   ]
  },
  {
   "cell_type": "code",
   "execution_count": 73,
   "metadata": {},
   "outputs": [
    {
     "data": {
      "image/png": "[encoded data removed]",
      "text/plain": [
       "<matplotlib.figure.Figure at 0x2576dd8f4a8>"
      ]
     },
     "metadata": {},
     "output_type": "display_data"
    }
   ],
   "source": [
    "plt.plot(T_c,V_e,'o',ms=5,color = 'Green',label='exp_10 $^\\circ$C/min')\n",
    "plt.plot(T_c2,V_e2,'s',ms=5,color = 'Blue',label='exp_20 $^\\circ$C/min')\n",
    "plt.plot(T_c3,V_e3,'^',ms=5,color = 'M',label='exp_30 $^\\circ$C/min')\n",
    "plt.plot(T_c[0:45],r_m(A1T,A2T,E1T,E2T,Y1T,Y2T)[2],'k',label='model')\n",
    "plt.plot(T_c2[0:44],r_m2(A1T,A2T,E1T,E2T,Y1T,Y2T)[2],'k')\n",
    "plt.plot(T_c3[0:43],r_m3(A1T,A2T,E1T,E2T,Y1T,Y2T)[2],'k')\n",
    "plt.xlabel('Temperature ($^\\circ$C)')\n",
    "plt.ylabel('TG (V)')\n",
    "plt.legend()\n",
    "plt.show()"
   ]
  },
  {
   "cell_type": "code",
   "execution_count": 65,
   "metadata": {},
   "outputs": [
    {
     "name": "stdout",
     "output_type": "stream",
     "text": [
      "[  0.00000000e+00   4.74634991e-04   1.15320889e-03   2.10913175e-03\n",
      "   3.44029594e-03   5.27002075e-03   7.75849896e-03   1.11035414e-02\n",
      "   1.55497582e-02   2.13935960e-02   2.89849526e-02   3.87385392e-02\n",
      "   5.11204870e-02   6.66435442e-02   8.58434661e-02   1.09255038e-01\n",
      "   1.37348767e-01   1.70477301e-01   2.08761787e-01   2.52008111e-01\n",
      "   2.99570568e-01   3.50323093e-01   4.02545974e-01   4.54034632e-01\n",
      "   5.02295020e-01   5.44835015e-01   5.79601782e-01   6.05550706e-01\n",
      "   6.22802980e-01   6.32675040e-01   6.37267961e-01   6.38852677e-01\n",
      "   6.39186591e-01   6.39206397e-01   6.39204210e-01   6.39204868e-01\n",
      "   6.39204531e-01   6.39204784e-01   6.39204527e-01   6.39204862e-01\n",
      "   6.39204317e-01   6.39205399e-01   6.39202827e-01   6.39210050e-01\n",
      "   6.39186349e-01]\n"
     ]
    }
   ],
   "source": [
    "print(r_m(A1T,A2T,E1T,E2T,Y1T,Y2T)[2])"
   ]
  },
  {
   "cell_type": "code",
   "execution_count": null,
   "metadata": {
    "collapsed": true
   },
   "outputs": [],
   "source": []
  }
 ],
 "metadata": {
  "kernelspec": {
   "display_name": "Python 3",
   "language": "python",
   "name": "python3"
  },
  "language_info": {
   "codemirror_mode": {
    "name": "ipython",
    "version": 3
   },
   "file_extension": ".py",
   "mimetype": "text/x-python",
   "name": "python",
   "nbconvert_exporter": "python",
   "pygments_lexer": "ipython3",
   "version": "3.7.1"
  }
 },
 "nbformat": 4,
 "nbformat_minor": 2
}
